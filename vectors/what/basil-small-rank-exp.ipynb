{
 "cells": [
  {
   "cell_type": "code",
   "execution_count": 104,
   "metadata": {
    "collapsed": true
   },
   "outputs": [],
   "source": [
    "from playgroundYelp import *\n",
    "\n",
    "import numpy as np\n",
    "\n",
    "HALFWIN = 2\n",
    "\n",
    "import re\n",
    "from operator import * "
   ]
  },
  {
   "cell_type": "code",
   "execution_count": 188,
   "metadata": {},
   "outputs": [],
   "source": [
    "snippets = [\n",
    "    '''...rugge. We started with a bowl of moules frîtes, of course, with red curry, coconut milk, lime, and basil. The heaping mound of mussels was thoroughly satisfying and meaty, the broth rich and flavorf... \n",
    "...ugge with my boyfriend and another couple and everything was delicious, from the Brugge frites with basil mayonnaise to the chocolate sauce on the French vanilla ice cream we had for dessert. My boyfr... \n",
    "... the edges and beginning to dry. Eggs were done perfectly. The pesto hollandaise had no discernable basil flavor to it all, the miniscule amount of pesto put into it added nothing. The actual hollanda... \n",
    "...the meal was delicious. The red curry sauce was really, really good. It was made of coconut milk, basil, onions, and other amazing ingredients which I do not remember, but it made a great dipping sa... \n",
    "...ericanized. The dinner menu/brunch menu however, is plentiful - the Frites dipping sauce, which is basil mayo, the basil doesn't really come through which makes this essentially mayo - solid burger w... \n",
    "...es of preparations, my favorite remains the red curry, with its blend of coconut milk, lime juice, basil and cilantro. The Brugge frites are great dipped in the basil mayonnaise sauce. They also have...''',\n",
    "    '''...time as the entrees. Our group of 5 shared 2 pad Thai, pork red curry, pork green curry, and a tofu basil. All we're spiced well according to the 1 to 10 heat scale. Fresh ingredients in all. I have t... \n",
    "...ean & good so don't worry about weird grisly meat. The only bummer was their pad kee mow, or spicy basil leaves. For some reason every Thai place in Pittsburgh serves it with very little basil and a ... \n",
    "...e back atrium is so nice and festive. I feel like I am on vacation in another city. I ordered the Basil Entrée with Chicken. (Stir-fry with Garlic, Eggplant, bell peppers, onions, bamboo slices, gre... \n",
    "...st Friday. My call was answered quickly and I was advised it'd be ready in 25 minutes. We ordered a basil chicken entree at a 6 and a pad Thai chicken, also at a 6 spice level. Both portions were abso... \n",
    "...he Tom Yum soup, Thai spring rolls (the cold, non-fried ones,) massaman curry with shrimp and spicy basil noodle with steamed tofu and vegetables. Our spice level ranged from 7 for the Tum Yum soup an... \n",
    "...d have also been excellent, as well as some of the chef specials. The Gaprow Lad Kao is a fun spicy basil & ground meat dish over rice with fried egg on top. It came as a recommendation from our serve... ''',\n",
    "    '''...ied Pork Dumplings for a starter. The Garden Roll (in a tapioca wrapper) was very fresh and full of basil and mint flavor. The Fried Pork Dumplings were exquisite with a zippy sesame dipping sauce - s... \n",
    "...rth Lawrenceville not many college students make it to this place. While there I shared the Spicy Basil Leaf, Chicken and Street Noodle #2. The basil Chicken was definitely the stronger choice, sinc... \n",
    "...his spot is so pretty and lush. I felt like I was eating dinner in a tropical garden. I ordered the Basil Eggplant, which was delicious, not overwhelmed with sauce, and appropriately spiced for a leve... \n",
    "...en, and the food is consistently well-executed. My favorite is their green curry, where you can taste the Thai basil, white pepper and Kaffir lime. It is the best green curry I ve had outside of Asia. \n",
    "...rtunately the weather was not cooperating so we stayed inside. We had a spring roll, curry, and a basil sauce. Everything was freshly prepared, as it did not have that \"sat out\" taste, not was the ... \n",
    "...commended (at our request) the specialty dishes. We selected the Woon Sen egg noodles and Eggplant Basil. The food was exquisite, authentic, and really set this restaurant apart from other Thai esta...''',\n",
    "    '''...ter- delish. I ordered the BBQ chicken pizza, my mom ordered the Reuben and we also ordered lemon basil house soda and passion fruit gelato. Yes... They make their own sodas- they feature differen... \n",
    "... The bird ordered the pizza bolognese with Cunningham Farms Beef Bolognese, Fresh Ricotta Cheese, Basil. It came out on a metal tray which I thought was cool. It was very tasty and she said she wo... \n",
    "..., loved it. And Panzanella Salad. Salad? Well, um, BREAD SALAD - Couldn't help it! Goat cheese, basil and pickled onions over a bed of bread chunks with watermelon vinaigrette. Extremely filling.... \n",
    "...on the sauce for me without any trouble. It was served on a baking sheet with little piles of dried basil, red pepper flakes and powdered Parmesan on the side and it was very good. Nice thin crust, fi... ''',\n",
    "    '''...my last visit I had previously promised to myself I would change it up. I went with the spicy fish basil, spicy number 7. Talk about flavor. Here I had found just what I wanted. The spicy fish basil... \n",
    "...ust a miserly dip-sized bowl. On to the entrees: we ordered the Red Curry with fish (extra spicy), Basil Fried Rice with chicken and shrimp (medium spicy), Gap rap Lad Kao with chicken (medium spicy)... \n",
    "...special for an appetizer. Beef was actually really good tho. Pad Thai was great with beef. Spicy Basil rice was amazing. Tom Yum Soup was good, but I didn't like it with the chicken as it was dry.... \n",
    "... we did get was really good. I was unfortunately not at my hungriest, so we shared the Chicken Thai Basil. Full of really fresh veggies and surprisingly spicy since my husband usually likes it pretty ... \n",
    "...place is for you. This dish includes beef, garlic, bell peppers, green beans, carrots, onions, thai basil and an incredible spicy chili sauce with rice on the side. i have also gotten the Spicy green ... \n",
    "...th flavors full of spices and herbs, sweetness and spiciness. Garlic chilies, coconut, ginger, thai basil, and countless other flavors permeate every bite, making each subsequent taste both irresistib... ''',\n",
    "    '''...* red curry tofu: wild mushrooms, yellow wax beans, yu choy, fried cauliflower, carrots, chickpeas, basil, steamed jasmine rice ($17) * autumn vegetable and rice cake: butternut squash, chanterelles, ... \n",
    "...dered the crispy tofu and mushroom & spinach dumplings for appetizers, the grilled salmon and spicy basil noodles for entrees, and shared the chocolate maki for dessert. Crispy Tofu: Must eat for veg... \n",
    "...(they weren't in town) and it was raining, but I just had a generally bad experience. I ordered the basil noodles and they were horrible. I've written in many of my other reviews that I do not like sw... \n",
    "... 2nd Course White tuna aka escolar fresh cherries and cucumber. Bonito, pine nut brittle, and Thai basil oil in cucumber water 3rd Course Lamb saddle wih local vegetables :corn, zucchini, heirloom t... \n",
    "...ation of taste and texture with fresh papaya, mango, daikon, creamy avocado, iceberg lettuce, mint, basil, cashews, and coconut tempura- a spicy tempura dressing completed the dish. With our palates ... \n",
    "...ome great flavor. wild barramundi: sushi rice cake, summer vegetable ratatouille, ssam jang, thai basil -I liked the flavor of the fish, the rice cake and vegetable ratatoille, however; they were al... ''',\n",
    "    '''$12 bucks just for rice... The Basil fried rice with shrimp is da bomb. But this place is just too expensive. The rice was about $10 and I came here occasionally because that's pretty steep for a co... \n",
    "...f the best Vietnamese style food in town. It really is sad that the fact that they garnish with fresh basil and mint is unique to vietnamese food in this town. For me, that makes or breaks the dish. \n",
    "I came here today for the first time since I returned to Pittsburgh and ordered the Thai Basil Fried Rice. I was completely satisfied with my order. The dish was large leaving me filled; the only disa... \n",
    "...ot black tea was on special and it tasted as delicious as it smelled. I was about to order the red basil chicken, but the waitress warned it was made with bone in chicken. I hate bone in chicken, so... \n",
    "I love their vegetarian tofu basil. It's tomato-y and delicious. I like their egg rolls too. It looks crappy from the outside, but it's fine inside. \n",
    "I always visit this place for their Thai fried rice and Basil fried rice. Their portions have reduced to half in about 2 years, but the food is always delicious. ''',\n",
    "    '''...large chunks of chicken, with a layer of cooked mushroom, topped with brie and spinach, followed by basil mayo on the sour dough. I would have almost liked everything separate: chicken and mushroom, w... ''',\n",
    "    '''...hich was quite tasty, but pretty much like all others I've had in my life. For my entree I had the basil chicken with brown rice--it was fine, nothing spectacular. I don't think they used Thai basil... \n",
    "...st a lovely place...made me realize I probably hang out in dumps far too often. I ordered the Tofu Basil Stirfry, upon the recommendation of our very friendly server (Kevin, I think?). He was absolu... \n",
    "...s before he said he was done and just wanted to eat his peanut sauce. For my main course I had thai basil chicken. It was very good. The chicken was moist and the basil was fresh as were the peppers a... \n",
    "... chow fun and the vegetable pineapple fried rice, both were decent. I sort of wish I had tried the basil black cod which sounded delicious but I wish it wasn't battered and fried. My friend tried th... \n",
    "...esented on the plate). I originally got the ginger cosmo but traded with my friend who got the Thai basil sake mojito because we both liked the other person's drink better. The mojito was sweet but al... \n",
    "...finitely a non-traditional roll but it satisfies us just fine. Our favorite non-sushi item is the basil black cod, served in a clay pot. It's enough for two people to share (if you've had all the pr... ''',\n",
    "    '''...hich was quite tasty, but pretty much like all others I've had in my life. For my entree I had the basil chicken with brown rice--it was fine, nothing spectacular. I don't think they used Thai basil... \n",
    "...st a lovely place...made me realize I probably hang out in dumps far too often. I ordered the Tofu Basil Stirfry, upon the recommendation of our very friendly server (Kevin, I think?). He was absolu... \n",
    "...s before he said he was done and just wanted to eat his peanut sauce. For my main course I had thai basil chicken. It was very good. The chicken was moist and the basil was fresh as were the peppers a... \n",
    "... chow fun and the vegetable pineapple fried rice, both were decent. I sort of wish I had tried the basil black cod which sounded delicious but I wish it wasn't battered and fried. My friend tried th... \n",
    "...esented on the plate). I originally got the ginger cosmo but traded with my friend who got the Thai basil sake mojito because we both liked the other person's drink better. The mojito was sweet but al... \n",
    "...finitely a non-traditional roll but it satisfies us just fine. Our favorite non-sushi item is the basil black cod, served in a clay pot. It's enough for two people to share (if you've had all the pr... '''\n",
    "]\n",
    "names = [\n",
    "    'Point Brugge Café',\n",
    "    'Nicky\\'s Thai Kitchen',\n",
    "    'Pusadee\\'s Garden',\n",
    "    'The Porch at Schenley',\n",
    "    'Nicky\\'s Thai Kitchen',\n",
    "    'Soba',\n",
    "    'Spice Island Tea House',\n",
    "    'Willow Restaurant',\n",
    "    'Plum Pan Asian Kitchen',\n",
    "    'Kaya'\n",
    "]"
   ]
  },
  {
   "cell_type": "code",
   "execution_count": 189,
   "metadata": {},
   "outputs": [],
   "source": [
    "def bow2vec(tokens):\n",
    "    tokens = filter(lambda tok: tok in model, tokens)\n",
    "    vector = np.asarray(map(lambda token: model[token], tokens))\n",
    "    vector = vector.sum(0)\n",
    "    return vector/float(len(tokens))\n",
    " #   return vector/vector.sum()"
   ]
  },
  {
   "cell_type": "code",
   "execution_count": 190,
   "metadata": {},
   "outputs": [],
   "source": [
    "snippets = [[re.sub('[\\.\\-,()&$\\']', '', line).split()[1:-1] for line in snippet.lower().splitlines()] for snippet in snippets]\n",
    "snippets = [[tokens[max(0, tokens.index('basil') - HALFWIN) : min(len(tokens)-1, tokens.index('basil') + HALFWIN + 1) ] for tokens in snippet] for snippet in snippets]\n",
    "snippets = [[tokens[:HALFWIN] + tokens[HALFWIN+1:] for tokens in snippet] for snippet in snippets]\n",
    "snippets = [reduce(add, snippet) for snippet in snippets]\n",
    "\n",
    "vectors = map(bow2vec, snippets)\n",
    "\n",
    "assert(len(names) == len(snippets))\n",
    "assert(len(vectors) == len(names))"
   ]
  },
  {
   "cell_type": "code",
   "execution_count": 247,
   "metadata": {},
   "outputs": [],
   "source": [
    "from sklearn.metrics.pairwise import cosine_similarity as cosine\n",
    "from scipy.spatial.distance import euclidean\n",
    "\n",
    "def query(tokens, weight):\n",
    "    vector = bow2vec(tokens)\n",
    "    basil = bow2vec(['basil'])\n",
    "#    cosines = [(idx, weight*cosine([vector], [Vr])[0][0]) for idx, Vr in enumerate(vectors)]\n",
    "    #cosines = [(idx, -1 * weight*euclidean(vector, Vr)) for idx, Vr in enumerate(vectors)]\n",
    "    if weight < 0:\n",
    "        cosines = [(idx, ((euclidean(vector, Vr) + euclidean(vector, basil) / euclidean(vector, Vr)))) for idx, Vr in enumerate(vectors)]\n",
    "    else:\n",
    "        cosines = [(idx, (1.0 - (euclidean(vector, Vr) + euclidean(vector, basil) / euclidean(vector, Vr)))) for idx, Vr in enumerate(vectors)]\n",
    "    cosines.sort(key=itemgetter(1), reverse=True)\n",
    "    for idx, cos in cosines:\n",
    "        print names[idx]\n",
    "    \n",
    "    "
   ]
  },
  {
   "cell_type": "code",
   "execution_count": 248,
   "metadata": {},
   "outputs": [
    {
     "data": {
      "text/plain": [
       "15.575937271118164"
      ]
     },
     "execution_count": 248,
     "metadata": {},
     "output_type": "execute_result"
    }
   ],
   "source": [
    "euclidean(vectors[0], bow2vec(['mayo']))"
   ]
  },
  {
   "cell_type": "code",
   "execution_count": 251,
   "metadata": {},
   "outputs": [
    {
     "name": "stdout",
     "output_type": "stream",
     "text": [
      "Willow Restaurant\n",
      "Spice Island Tea House\n",
      "Nicky's Thai Kitchen\n",
      "Nicky's Thai Kitchen\n",
      "Soba\n",
      "Point Brugge Café\n",
      "Plum Pan Asian Kitchen\n",
      "Kaya\n",
      "Pusadee's Garden\n",
      "The Porch at Schenley\n"
     ]
    }
   ],
   "source": [
    "query(['soda'], -1)"
   ]
  },
  {
   "cell_type": "code",
   "execution_count": 243,
   "metadata": {},
   "outputs": [
    {
     "name": "stdout",
     "output_type": "stream",
     "text": [
      "Plum Pan Asian Kitchen\n",
      "Kaya\n",
      "Spice Island Tea House\n",
      "Nicky's Thai Kitchen\n",
      "The Porch at Schenley\n",
      "Nicky's Thai Kitchen\n",
      "Pusadee's Garden\n",
      "Soba\n",
      "Willow Restaurant\n",
      "Point Brugge Café\n"
     ]
    }
   ],
   "source": [
    "query(['mayonnaise'], -1)"
   ]
  },
  {
   "cell_type": "code",
   "execution_count": 244,
   "metadata": {},
   "outputs": [
    {
     "name": "stdout",
     "output_type": "stream",
     "text": [
      "Willow Restaurant\n",
      "Spice Island Tea House\n",
      "Nicky's Thai Kitchen\n",
      "Soba\n",
      "Nicky's Thai Kitchen\n",
      "Point Brugge Café\n",
      "The Porch at Schenley\n",
      "Pusadee's Garden\n",
      "Plum Pan Asian Kitchen\n",
      "Kaya\n"
     ]
    }
   ],
   "source": [
    "query(['margarita'], -1)"
   ]
  },
  {
   "cell_type": "code",
   "execution_count": 245,
   "metadata": {},
   "outputs": [
    {
     "name": "stdout",
     "output_type": "stream",
     "text": [
      "Willow Restaurant\n",
      "Spice Island Tea House\n",
      "Nicky's Thai Kitchen\n",
      "Nicky's Thai Kitchen\n",
      "Soba\n",
      "Point Brugge Café\n",
      "Plum Pan Asian Kitchen\n",
      "Kaya\n",
      "Pusadee's Garden\n",
      "The Porch at Schenley\n"
     ]
    }
   ],
   "source": [
    "query(['soda'], -1)"
   ]
  },
  {
   "cell_type": "code",
   "execution_count": 246,
   "metadata": {},
   "outputs": [
    {
     "name": "stdout",
     "output_type": "stream",
     "text": [
      "The Porch at Schenley\n",
      "Pusadee's Garden\n",
      "Plum Pan Asian Kitchen\n",
      "Kaya\n",
      "Point Brugge Café\n",
      "Soba\n",
      "Nicky's Thai Kitchen\n",
      "Nicky's Thai Kitchen\n",
      "Spice Island Tea House\n",
      "Willow Restaurant\n"
     ]
    }
   ],
   "source": [
    "query(['soda'], 1)"
   ]
  },
  {
   "cell_type": "code",
   "execution_count": null,
   "metadata": {
    "collapsed": true
   },
   "outputs": [],
   "source": []
  }
 ],
 "metadata": {
  "kernelspec": {
   "display_name": "Python 2",
   "language": "python",
   "name": "python2"
  },
  "language_info": {
   "codemirror_mode": {
    "name": "ipython",
    "version": 2
   },
   "file_extension": ".py",
   "mimetype": "text/x-python",
   "name": "python",
   "nbconvert_exporter": "python",
   "pygments_lexer": "ipython2",
   "version": "2.7.13"
  }
 },
 "nbformat": 4,
 "nbformat_minor": 2
}
