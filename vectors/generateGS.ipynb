{
 "cells": [
  {
   "cell_type": "code",
   "execution_count": 4,
   "metadata": {
    "collapsed": true
   },
   "outputs": [],
   "source": [
    "import csv\n",
    "import json\n",
    "from operator import *\n",
    "from itertools import *\n",
    "from collections import *"
   ]
  },
  {
   "cell_type": "code",
   "execution_count": 8,
   "metadata": {
    "collapsed": true
   },
   "outputs": [],
   "source": [
    "term = 'cocktail'\n",
    "filename = '%s.labels.csv' % term\n",
    "output_filename = '%s.gs.json' % term"
   ]
  },
  {
   "cell_type": "code",
   "execution_count": 9,
   "metadata": {},
   "outputs": [
    {
     "name": "stdout",
     "output_type": "stream",
     "text": [
      "100.0% - 93.20%\n",
      "66.7% - 6.54%\n",
      "33.3% - 0.26%\n"
     ]
    }
   ],
   "source": [
    "with open(filename) as csvfile:\n",
    "    reader = csv.DictReader(csvfile)\n",
    "    dist = Counter()\n",
    "    for hitID, group in groupby(reader, itemgetter('HITId')):\n",
    "        labels = Counter(map(itemgetter('Answer.sense'), group))\n",
    "        majority = labels.most_common(1)[0][1]\n",
    "        total = float(sum(labels.values()))\n",
    "        dist.update([100.0*majority/total])\n",
    "    total = float(sum(dist.values()))\n",
    "    for majority, count in sorted(dist.items(), reverse=True):\n",
    "        print '%.1f%% - %.2f%%' % (majority, 100.0*count/total)"
   ]
  },
  {
   "cell_type": "code",
   "execution_count": 10,
   "metadata": {},
   "outputs": [
    {
     "name": "stdout",
     "output_type": "stream",
     "text": [
      "What a great stop for happy hour! Their appetizers are half off, and craft beers and cocktails are $2 off during that time, so my f ***riends an*** d I stopped! We each had two great cocktails, but our favorite was the gin basil smash. It was refreshing and had great flavor! W\n",
      "\n",
      "ontraptions, pressing buttons, feeding these glittering boxes while smoking or drinking complimentary fountain beverages.   Sullen  ***cocktail*** waitresses of all shapes and sizes passed us hurriedly in revealing outfits as we took in our surroundings.   I even saw a co-wor\n",
      "\n",
      "deals, albeit for regulars only. - Free Pop & Coffee, although they need to do something about the funky drain smells.  The Bad: -  ***Cocktail***  waitresses are vying with the Dodo bird for which is seen less. - Drinks, when you go grab one yourself, tend to be on the weak a\n",
      "\n",
      "re having a jolly time.  Goldmark has kept the wooden bar and original tile, but painted trendy murals on the walls and added some  ***cocktail***  tables. Surprisingly, there is a lot more room than you'd expect looking at it from the outside. I like that they have a Beer + S\n",
      "\n",
      "Some friends and I came here for cocktails during their Thursday happy hour, and right off the bat I was impressed with the venue a ***nd atmosp*** here.  I was greeted with a large, elegant dining room and relaxed lounge area adjacent to it, with a very skilled guitarist play\n",
      "\n",
      "I went her a few times for a lite dinner and cocktails but yesterday I went for brunch.  The veggie eggs benedict was outstanding! ***White as*** paragus, roasted tomatoes, kale and a two perfectly poached eggs.  The Hollandaise sauce was just the right amount of citrus and \n",
      "\n",
      "onal. Tommy and Llama run the bar, and they know their stuff. Just don't ask Tommy how he feels about Big Ben or the Steelers. The  ***cocktail***  waitresses are cute, funny, attentive, and know their beers.   In terms of entertainment, there are plenty of HD-TV's around alwa\n",
      "\n",
      "reat service, great food. A place you can feel normal and happy at.   If you are sick of all of the gastropubs and prohibition era  ***cocktail***  bars filling up Lawrenceville, give Hambones a shot. Get a hamburger and a cheap beer and it will make your day so much better.\n",
      "\n",
      "Our favorite pittsburgh restaurant of 2015- well rounded with excellent cocktails and satisfying portions of delicious food. Nice h ***ipster a*** tmosphere.  Veggie perspective- I absolutely love the roasted carrot small plate (lovely roasted flavor with rich puffy chickpea p\n",
      "\n",
      "ce and a side of soup. I got the sweet and sour chicken, which was a mistake because the sauce was so sweet it tasted like a fruit  ***cocktail.***  For the side of soup, I got the hot and sour soup. It tasted nothing like hot and sour soup, and it looked nothing like hot and s\n",
      "\n",
      "So my boyfriend and I stopped in on a whim and had two cocktails that were ok. They weren't horrible but they weren't perfect eithe ***r. We wer*** e with friends that ordered different cocktails and they absolutely disliked them. It wasn't really that busy but maybe the barte\n",
      "\n",
      "Loved this place, cool concept, great food, fantastic cocktails. Went here with my girlfriends, we have a dinner club that meets mo ***nthly. W*** anted to try something newer, so we picked this place.   First let's start with the drinks, the happy hour specials were 1/2 off al\n",
      "\n",
      "I used to work here my first summer after college as a hostess and cocktail waitress.  Hated working here, but really enjoy coming  ***in as a g*** uest.    I next to never do the full dinner simply because if I'm gonna spend that money on a fancy meal, I'll do it somewhere t\n",
      "\n",
      "nclusion that it was weird.  Weird how?  -Weird because the indoor tables for two were actually very small outdoor metallic-topped ***cocktail***  tables that could not accommodate more than two plates at a time. -Weird because La Casa bills itself as a tapas restaurant, so y\n",
      "\n",
      "I got but it was beef and vegetables stir fried and then placed into a ring of deep fried bean paste.  It was served with a little ***cocktail*** umbrella stuck in the bean ring.  The presentation was quite unusual and unique and it made the meal that much better.   The meal\n",
      "\n",
      "Definitely a cool bar in Lawrenceville, and one of the best places to get a cocktail in the 'Burgh.  It certainly has one of the mo ***st eclect*** ic crowds around.  Everyone from the hipsters to punks to older people dressed up are inside...you'll feel instantly comfortable\n",
      "\n",
      "Stopped in on the Fourth of July for evening cocktail and small meal. From horrible service to terrible seafood...would never retur ***n. We wai*** ted a very long time for cocktails and order to be taken, when there was little crowd around in the restaurant. Then, our oyster\n",
      "\n",
      "The reason for 4 stars and not 5 are some kinks I feel the restaurant is still working on.  First we were a party of 5 sat at a ***cocktail*** style high top table definitely made for 4. There were center pieces and lots of glassware making it impossible to put appetizers\n",
      "\n",
      "Came here for our anniversary. Started with a fine cocktail, well designed gin with fresh dehydrated ginger called a Muddle- a grea ***t open.*** First it should be noted that a very drunk panhandler entered the restaurant and led the house in a chant of Let's Go Pens! befor\n",
      "\n",
      "d mayo on a perfectly crunchy/chewy baguette. A simple lunch that would have a difficult time being more delicious. They do have a ***cocktail***  table where you can stand and eat your pastry or sandwich, or you can go to the park across the street and enjoy some of the rare\n",
      "\n",
      "and dumplings up to the register, yet I've never had the total exceed $50, ever.  At whole foods you could blow that on an organic  ***cocktail***  weenie.  Lotus offers, hands down, the best prices and the best selection of any grocery in Pittsburgh!\n",
      "\n",
      "had wet spots on it (probably from being recently cleaned) and I was a little surprised that we didn't receive more than a couple ***cocktail***  napkins-- we ordered crystallized ginger, 2 teas, 3 cookies, & the hummus plate, so I feel a few more napkins would've been smart\n",
      "\n",
      "place food is good staff is great and you can always have Fun. Although they reprinted the menu (it looks like a photo album for a ***cocktail*** table) there really aren't that many changes although much to the chagrin of Elyssa they dropped the Tuna Melt. They should add b\n",
      "\n",
      "As a cocktail lover (more than a sports-bar fan), Harris' is by far my favorite bar in the area. I can't even count the amount of t ***imes I'v*** e gone here with a group of girls and the waitresses have had to manage trays and trays of frozen cosmo's (which, like many have \n",
      "\n",
      "od pasta. Now, imagine it dressed up and upgraded with additional delicious ingredients. Kate Upton in jeans, now, Kate Upton in a  ***cocktail*** dress. You get the idea--I didn't know something great could become something so AMAZING.   Creme Brulee unfortunately was not an\n",
      "\n",
      "r and, granted the bartender did warn us the bar was slanted and if the bottle got wet, it might slip - but she did not give him a  ***cocktail***  napkin to prevent the condensation to collect on the bottom and it slid right into my lap. I'm 5 months pregnant, didn't have a d\n",
      "\n",
      "[('drinks', 1028), ('sauce', 86), ('others', 26)]\n"
     ]
    }
   ],
   "source": [
    "with open(filename) as csvfile:\n",
    "    reader = csv.DictReader(csvfile)\n",
    "    out = {}\n",
    "    dist = Counter()\n",
    "    for business_id, group in groupby(reader, itemgetter('Input.business_id')):\n",
    "        group = list(group)\n",
    "        labels = Counter(map(itemgetter('Answer.sense'), group))\n",
    "        majority = labels.most_common(1)[0][0]\n",
    "        if majority == 'others':\n",
    "            print group[0]['Input.pre'],\n",
    "            print '***' + group[0]['Input.term'] + '***',\n",
    "            print group[0]['Input.post']\n",
    "            print\n",
    "        out[business_id] = majority\n",
    "        dist.update([majority])\n",
    "    print dist.most_common()\n",
    "    with open(output_filename, 'w') as outputfile:\n",
    "        json.dump(out, outputfile, sort_keys=True, indent=2)\n"
   ]
  },
  {
   "cell_type": "code",
   "execution_count": null,
   "metadata": {
    "collapsed": true
   },
   "outputs": [],
   "source": []
  }
 ],
 "metadata": {
  "kernelspec": {
   "display_name": "Python 2",
   "language": "python",
   "name": "python2"
  },
  "language_info": {
   "codemirror_mode": {
    "name": "ipython",
    "version": 2
   },
   "file_extension": ".py",
   "mimetype": "text/x-python",
   "name": "python",
   "nbconvert_exporter": "python",
   "pygments_lexer": "ipython2",
   "version": "2.7.13"
  }
 },
 "nbformat": 4,
 "nbformat_minor": 2
}
