{
 "cells": [
  {
   "cell_type": "code",
   "execution_count": 1,
   "metadata": {
    "collapsed": false,
    "deletable": true,
    "editable": true
   },
   "outputs": [],
   "source": [
    "import json\n",
    "\n",
    "businessFilePath = './yelp_academic_dataset_business.json'\n",
    "reviewFilePath = './yelp_academic_dataset_review.json'"
   ]
  },
  {
   "cell_type": "code",
   "execution_count": 2,
   "metadata": {
    "collapsed": false,
    "deletable": true,
    "editable": true
   },
   "outputs": [],
   "source": [
    "from peewee import *\n",
    "from playhouse.sqlite_ext import SqliteExtDatabase\n",
    "\n",
    "db = SqliteExtDatabase('yelp.db')\n",
    "\n",
    "class BaseModel(Model):\n",
    "    class Meta:\n",
    "        database = db\n",
    "\n",
    "class Business(BaseModel):\n",
    "#[u'city', u'neighborhood', u'name', u'business_id', u'longitude', u'hours', \n",
    "# u'state', u'postal_code', u'categories', u'stars', u'address', u'latitude',\n",
    "# u'review_count', u'attributes', u'type', u'is_open']\n",
    "    business_id = FixedCharField(unique=True)\n",
    "    stars = FloatField(index=True)\n",
    "    review_count = IntegerField(index=True)\n",
    "    name = CharField()\n",
    "    state = FixedCharField(index=True)\n",
    "    city = FixedCharField(index=True)\n",
    "    \n",
    "class Category(BaseModel):\n",
    "    business = ForeignKeyField(Business, related_name='categories')\n",
    "    name = FixedCharField(index=True)\n",
    "\n",
    "class Review(BaseModel):\n",
    "# [u'funny', u'user_id', u'review_id', u'text', u'business_id', u'stars',\n",
    "# u'date', u'useful', u'type', u'cool']\n",
    "    review_id = FixedCharField(unique=True)\n",
    "    business = ForeignKeyField(Business, related_name='reviews')\n",
    "    stars = FloatField(index=True)\n",
    "    text = TextField()\n",
    "    \n",
    "db.connect()\n",
    "db.create_tables([Business, Review, Category])"
   ]
  },
  {
   "cell_type": "code",
   "execution_count": 3,
   "metadata": {
    "collapsed": false,
    "deletable": true,
    "editable": true
   },
   "outputs": [
    {
     "name": "stdout",
     "output_type": "stream",
     "text": [
      "0.69% 1.39% 2.08% 2.78% 3.47% 4.16% 4.86% 5.55% 6.25% 6.94% 7.64% 8.33% 9.02% 9.72% 10.41% 11.11% 11.80% 12.49% 13.19% 13.88% 14.58% 15.27% 15.96% 16.66% 17.35% 18.05% 18.74% 19.43% 20.13% 20.82% 21.52% 22.21% 22.91% 23.60% 24.29% 24.99% 25.68% 26.38% 27.07% 27.76% 28.46% 29.15% 29.85% 30.54% 31.23% 31.93% 32.62% 33.32% 34.01% 34.70% 35.40% 36.09% 36.79% 37.48% 38.18% 38.87% 39.56% 40.26% 40.95% 41.65% 42.34% 43.03% 43.73% 44.42% 45.12% 45.81% 46.50% 47.20% 47.89% 48.59% 49.28% 49.98% 50.67% 51.36% 52.06% 52.75% 53.45% 54.14% 54.83% 55.53% 56.22% 56.92% 57.61% 58.30% 59.00% 59.69% 60.39% 61.08% 61.77% 62.47% 63.16% 63.86% 64.55% 65.25% 65.94% 66.63% 67.33% 68.02% 68.72% 69.41% 70.10% 70.80% 71.49% 72.19% 72.88% 73.57% 74.27% 74.96% 75.66% 76.35% 77.04% 77.74% 78.43% 79.13% 79.82% 80.52% 81.21% 81.90% 82.60% 83.29% 83.99% 84.68% 85.37% 86.07% 86.76% 87.46% 88.15% 88.84% 89.54% 90.23% 90.93% 91.62% 92.31% 93.01% 93.70% 94.40% 95.09% 95.79% 96.48% 97.17% 97.87% 98.56% 99.26% 99.95%\n",
      "48485\n"
     ]
    }
   ],
   "source": [
    "n = 0\n",
    "_n = 0\n",
    "bids = set([])\n",
    "for business in open(businessFilePath):\n",
    "    _n += 1\n",
    "    if _n % 1000 == 0:\n",
    "        print '%.2f%%' % (100.0 * _n / 144072), \n",
    "    business = json.loads(business)\n",
    "    if business['categories'] == None or 'Restaurants' not in business['categories']:\n",
    "        continue\n",
    "    businessObj = Business(**{k:business[k] for k in ['business_id', 'stars', 'name', 'review_count', 'state', 'city']})\n",
    "    businessObj.save()\n",
    "    bids.add(business['business_id'])\n",
    "    for category in business['categories']:\n",
    "        if category == 'Restaurants':\n",
    "           continue\n",
    "        categoryObj = Category(name=category, business=businessObj)\n",
    "        categoryObj.save()\n",
    "    \n",
    "    n += 1\n",
    "\n",
    "print\n",
    "print n\n",
    "        "
   ]
  },
  {
   "cell_type": "code",
   "execution_count": 4,
   "metadata": {
    "collapsed": false,
    "deletable": true,
    "editable": true
   },
   "outputs": [
    {
     "name": "stdout",
     "output_type": "stream",
     "text": [
      "0.24% 0.48% 0.72% 0.96% 1.20% 1.44% 1.69% 1.93% 2.17% 2.41% 2.65% 2.89% 3.13% 3.37% 3.61% 3.85% 4.09% 4.33% 4.57% 4.82% 5.06% 5.30% 5.54% 5.78% 6.02% 6.26% 6.50% 6.74% 6.98% 7.22% 7.46% 7.70% 7.95% 8.19% 8.43% 8.67% 8.91% 9.15% 9.39% 9.63% 9.87% 10.11% 10.35% 10.59% 10.84% 11.08% 11.32% 11.56% 11.80% 12.04% 12.28% 12.52% 12.76% 13.00% 13.24% 13.48% 13.72% 13.97% 14.21% 14.45% 14.69% 14.93% 15.17% 15.41% 15.65% 15.89% 16.13% 16.37% 16.61% 16.85% 17.10% 17.34% 17.58% 17.82% 18.06% 18.30% 18.54% 18.78% 19.02% 19.26% 19.50% 19.74% 19.98% 20.23% 20.47% 20.71% 20.95% 21.19% 21.43% 21.67% 21.91% 22.15% 22.39% 22.63% 22.87% 23.11% 23.36% 23.60% 23.84% 24.08% 24.32% 24.56% 24.80% 25.04% 25.28% 25.52% 25.76% 26.00% 26.25% 26.49% 26.73% 26.97% 27.21% 27.45% 27.69% 27.93% 28.17% 28.41% 28.65% 28.89% 29.13% 29.38% 29.62% 29.86% 30.10% 30.34% 30.58% 30.82% 31.06% 31.30% 31.54% 31.78% 32.02% 32.26% 32.51% 32.75% 32.99% 33.23% 33.47% 33.71% 33.95% 34.19% 34.43% 34.67% 34.91% 35.15% 35.39% 35.64% 35.88% 36.12% 36.36% 36.60% 36.84% 37.08% 37.32% 37.56% 37.80% 38.04% 38.28% 38.52% 38.77% 39.01% 39.25% 39.49% 39.73% 39.97% 40.21% 40.45% 40.69% 40.93% 41.17% 41.41% 41.66% 41.90% 42.14% 42.38% 42.62% 42.86% 43.10% 43.34% 43.58% 43.82% 44.06% 44.30% 44.54% 44.79% 45.03% 45.27% 45.51% 45.75% 45.99% 46.23% 46.47% 46.71% 46.95% 47.19% 47.43% 47.67% 47.92% 48.16% 48.40% 48.64% 48.88% 49.12% 49.36% 49.60% 49.84% 50.08% 50.32% 50.56% 50.80% 51.05% 51.29% 51.53% 51.77% 52.01% 52.25% 52.49% 52.73% 52.97% 53.21% 53.45% 53.69% 53.93% 54.18% 54.42% 54.66% 54.90% 55.14% 55.38% 55.62% 55.86% 56.10% 56.34% 56.58% 56.82% 57.07% 57.31% 57.55% 57.79% 58.03% 58.27% 58.51% 58.75% 58.99% 59.23% 59.47% 59.71% 59.95% 60.20% 60.44% 60.68% 60.92% 61.16% 61.40% 61.64% 61.88% 62.12% 62.36% 62.60% 62.84% 63.08% 63.33% 63.57% 63.81% 64.05% 64.29% 64.53% 64.77% 65.01% 65.25% 65.49% 65.73% 65.97% 66.21% 66.46% 66.70% 66.94% 67.18% 67.42% 67.66% 67.90% 68.14% 68.38% 68.62% 68.86% 69.10% 69.34% 69.59% 69.83% 70.07% 70.31% 70.55% 70.79% 71.03% 71.27% 71.51% 71.75% 71.99% 72.23% 72.48% 72.72% 72.96% 73.20% 73.44% 73.68% 73.92% 74.16% 74.40% 74.64% 74.88% 75.12% 75.36% 75.61% 75.85% 76.09% 76.33% 76.57% 76.81% 77.05% 77.29% 77.53% 77.77% 78.01% 78.25% 78.49% 78.74% 78.98% 79.22% 79.46% 79.70% 79.94% 80.18% 80.42% 80.66% 80.90% 81.14% 81.38% 81.62% 81.87% 82.11% 82.35% 82.59% 82.83% 83.07% 83.31% 83.55% 83.79% 84.03% 84.27% 84.51% 84.75% 85.00% 85.24% 85.48% 85.72% 85.96% 86.20% 86.44% 86.68% 86.92% 87.16% 87.40% 87.64% 87.89% 88.13% 88.37% 88.61% 88.85% 89.09% 89.33% 89.57% 89.81% 90.05% 90.29% 90.53% 90.77% 91.02% 91.26% 91.50% 91.74% 91.98% 92.22% 92.46% 92.70% 92.94% 93.18% 93.42% 93.66% 93.90% 94.15% 94.39% 94.63% 94.87% 95.11% 95.35% 95.59% 95.83% 96.07% 96.31% 96.55% 96.79% 97.03% 97.28% 97.52% 97.76% 98.00% 98.24% 98.48% 98.72% 98.96% 99.20% 99.44% 99.68% 99.92% done\n",
      "2577298\n"
     ]
    }
   ],
   "source": [
    "n = 0\n",
    "_n = 0\n",
    "for review in open(reviewFilePath):\n",
    "    _n += 1\n",
    "    if _n % 10000 == 0:\n",
    "        print '%.2f%%' % (_n / 41531.500), \n",
    "    review = json.loads(review)\n",
    "    if not review['business_id'] in bids:\n",
    "        continue\n",
    "    businessObj = Business.get(business_id = review['business_id'])\n",
    "    attrs = {k:review[k] for k in ['review_id', 'stars', 'text']}\n",
    "    attrs['business'] = businessObj\n",
    "    reviewObj = Review(**attrs)\n",
    "    reviewObj.save()\n",
    "    \n",
    "    n += 1\n",
    "print 'done'\n",
    "print n"
   ]
  },
  {
   "cell_type": "code",
   "execution_count": null,
   "metadata": {
    "collapsed": true,
    "deletable": true,
    "editable": true
   },
   "outputs": [],
   "source": []
  },
  {
   "cell_type": "code",
   "execution_count": 12,
   "metadata": {
    "collapsed": false,
    "deletable": true,
    "editable": true
   },
   "outputs": [],
   "source": [
    "b = Business.get(business_id = '4P-vTvE6cncJyUyLh73pxw')"
   ]
  },
  {
   "cell_type": "code",
   "execution_count": 13,
   "metadata": {
    "collapsed": false,
    "deletable": true,
    "editable": true
   },
   "outputs": [
    {
     "data": {
      "text/plain": [
       "u'London Pickle Works'"
      ]
     },
     "execution_count": 13,
     "metadata": {},
     "output_type": "execute_result"
    }
   ],
   "source": [
    "b.name"
   ]
  },
  {
   "cell_type": "code",
   "execution_count": 16,
   "metadata": {
    "collapsed": false,
    "deletable": true,
    "editable": true
   },
   "outputs": [
    {
     "data": {
      "text/plain": [
       "[u'Nightlife', u'American (Traditional)', u'Pubs', u'Bars']"
      ]
     },
     "execution_count": 16,
     "metadata": {},
     "output_type": "execute_result"
    }
   ],
   "source": [
    "from operator import *\n",
    "[x.name for x in b.categories]"
   ]
  },
  {
   "cell_type": "code",
   "execution_count": 17,
   "metadata": {
    "collapsed": false,
    "deletable": true,
    "editable": true
   },
   "outputs": [
    {
     "data": {
      "text/plain": [
       "<class '__main__.Review'> SELECT \"t1\".\"id\", \"t1\".\"review_id\", \"t1\".\"business_id\", \"t1\".\"stars\", \"t1\".\"text\" FROM \"review\" AS t1 WHERE (\"t1\".\"business_id\" = ?) [11785]"
      ]
     },
     "execution_count": 17,
     "metadata": {},
     "output_type": "execute_result"
    }
   ],
   "source": [
    "b.reviews"
   ]
  },
  {
   "cell_type": "code",
   "execution_count": 18,
   "metadata": {
    "collapsed": false,
    "deletable": true,
    "editable": true
   },
   "outputs": [
    {
     "data": {
      "text/plain": [
       "23"
      ]
     },
     "execution_count": 18,
     "metadata": {},
     "output_type": "execute_result"
    }
   ],
   "source": [
    "len(b.reviews)"
   ]
  },
  {
   "cell_type": "code",
   "execution_count": 22,
   "metadata": {
    "collapsed": false,
    "deletable": true,
    "editable": true
   },
   "outputs": [
    {
     "data": {
      "text/plain": [
       "u'This place is a area staple! Been around for years and not much has changed - I see this as a good thing! Stable and reliable!\\n\\nMy family goes every year for St. Pattys Day corn beef! Very nice place for a bar night dinner, or to catch up with some friends over drinks!'"
      ]
     },
     "execution_count": 22,
     "metadata": {},
     "output_type": "execute_result"
    }
   ],
   "source": [
    "b.reviews[0].text"
   ]
  },
  {
   "cell_type": "code",
   "execution_count": null,
   "metadata": {
    "collapsed": true,
    "deletable": true,
    "editable": true
   },
   "outputs": [],
   "source": []
  }
 ],
 "metadata": {
  "kernelspec": {
   "display_name": "Python 2",
   "language": "python",
   "name": "python2"
  },
  "language_info": {
   "codemirror_mode": {
    "name": "ipython",
    "version": 2
   },
   "file_extension": ".py",
   "mimetype": "text/x-python",
   "name": "python",
   "nbconvert_exporter": "python",
   "pygments_lexer": "ipython2",
   "version": "2.7.5"
  }
 },
 "nbformat": 4,
 "nbformat_minor": 2
}
